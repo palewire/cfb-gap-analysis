{
 "cells": [
  {
   "cell_type": "markdown",
   "id": "b3d40c28-cd39-489c-80db-a3074f2c2d23",
   "metadata": {},
   "source": [
    "## Import"
   ]
  },
  {
   "cell_type": "code",
   "execution_count": 2,
   "id": "92866842-aea2-42ba-8770-7b2874287ee3",
   "metadata": {},
   "outputs": [],
   "source": [
    "import requests\n",
    "from bs4 import BeautifulSoup"
   ]
  },
  {
   "cell_type": "code",
   "execution_count": 3,
   "id": "5dc0f78e-1c82-4706-90cd-e83bf2e1fc27",
   "metadata": {},
   "outputs": [],
   "source": [
    "import pandas as pd\n",
    "import altair as alt"
   ]
  },
  {
   "cell_type": "markdown",
   "id": "7579c71b-5f18-4ca4-954c-42bdc672cf62",
   "metadata": {},
   "source": [
    "## Scrape"
   ]
  },
  {
   "cell_type": "code",
   "execution_count": 4,
   "id": "dc371c41-0d2a-4b49-a4de-9acd5e701fc7",
   "metadata": {},
   "outputs": [],
   "source": [
    "o_url = \"https://www.espn.com/college-football/stats/team/_/table/passing/sort/yardsPerGame/dir/desc\""
   ]
  },
  {
   "cell_type": "code",
   "execution_count": 5,
   "id": "9c64e959-4d96-43ad-af2b-205417eb1584",
   "metadata": {},
   "outputs": [],
   "source": [
    "d_url = \"https://www.espn.com/college-football/stats/team/_/view/defense\""
   ]
  },
  {
   "cell_type": "code",
   "execution_count": 55,
   "id": "3a93518f-ce7f-4233-841d-7b47ae6b4f4d",
   "metadata": {},
   "outputs": [],
   "source": [
    "def get_ranking(url):\n",
    "    r = requests.get(url)\n",
    "    soup = BeautifulSoup(r.text)\n",
    "    section = soup.find(\"div\", class_=\"ResponsiveTable\")\n",
    "    table_list = section.find_all(\"table\", class_=\"Table\")\n",
    "    assert len(table_list) == 2\n",
    "    team_table = table_list[0]\n",
    "    team_ranking = []\n",
    "    for i, row in enumerate(team_table.find_all(\"tr\")[2:]):\n",
    "        d = {\n",
    "            'rank': i+1,\n",
    "            'name': row.text,\n",
    "            'img': row.find_all(\"img\")[0]['src'],\n",
    "        }\n",
    "        team_ranking.append(d)\n",
    "    return pd.DataFrame(team_ranking)"
   ]
  },
  {
   "cell_type": "code",
   "execution_count": 58,
   "id": "0ac2ecc3-0e0b-49c8-a5d9-5c7934567734",
   "metadata": {},
   "outputs": [],
   "source": [
    "o_df = get_ranking(o_url)"
   ]
  },
  {
   "cell_type": "code",
   "execution_count": 57,
   "id": "40b0156f-a82f-47c6-82eb-0cce7fc9ffd4",
   "metadata": {},
   "outputs": [],
   "source": [
    "d_df = get_ranking(d_url)"
   ]
  },
  {
   "cell_type": "markdown",
   "id": "dbc691d3-ac72-4f31-9961-a4d2399c0992",
   "metadata": {},
   "source": [
    "## Transform"
   ]
  },
  {
   "cell_type": "code",
   "execution_count": 63,
   "id": "538b69c9-82ab-47a6-8222-b65706703a71",
   "metadata": {},
   "outputs": [],
   "source": [
    "merged_df = o_df[[\"rank\", \"name\"]].merge(d_df, on=\"name\", how=\"inner\", suffixes=[\"_o\", \"_d\"])"
   ]
  },
  {
   "cell_type": "code",
   "execution_count": 65,
   "id": "200de9df-ba8d-4e2a-aaa7-669d3b9294a6",
   "metadata": {},
   "outputs": [],
   "source": [
    "merged_df['rank_diff'] = abs(merged_df.rank_o - merged_df.rank_d)"
   ]
  },
  {
   "cell_type": "markdown",
   "id": "cee97125-7d86-4a22-a55a-1b4649130cdf",
   "metadata": {},
   "source": [
    "## Export"
   ]
  },
  {
   "cell_type": "code",
   "execution_count": 68,
   "id": "fd059864-fb76-4a20-aa7b-88f2475e5697",
   "metadata": {},
   "outputs": [],
   "source": [
    "merged_df.sort_values(\"rank_diff\", ascending=False)[[\n",
    "    'name',\n",
    "    'rank_o',\n",
    "    'rank_d',\n",
    "    'rank_diff',\n",
    "]].to_csv(\"analysis.csv\", index=False)"
   ]
  }
 ],
 "metadata": {
  "kernelspec": {
   "display_name": "Python 3 (ipykernel)",
   "language": "python",
   "name": "python3"
  },
  "language_info": {
   "codemirror_mode": {
    "name": "ipython",
    "version": 3
   },
   "file_extension": ".py",
   "mimetype": "text/x-python",
   "name": "python",
   "nbconvert_exporter": "python",
   "pygments_lexer": "ipython3",
   "version": "3.10.6"
  }
 },
 "nbformat": 4,
 "nbformat_minor": 5
}
